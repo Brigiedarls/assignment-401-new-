{
 "cells": [
  {
   "cell_type": "code",
   "execution_count": null,
   "id": "af741e7a",
   "metadata": {},
   "outputs": [],
   "source": []
  },
  {
   "cell_type": "code",
   "execution_count": 58,
   "id": "43e11a62",
   "metadata": {},
   "outputs": [
    {
     "name": "stdout",
     "output_type": "stream",
     "text": [
      "neither condition is satified\n"
     ]
    }
   ],
   "source": [
    "# assign 8 to a variable x and 15 to a variable y. in the same cell, create 2 conditinal statements \n",
    "x=1\n",
    "y=5\n",
    "if x > 3 or y % 2==0:\n",
    "    print('at least one of the conditions is satisfied') \n",
    "if x <=3 and y % 2==1:\n",
    "    print ('neither condition is satisfied')\n",
    "    "
   ]
  },
  {
   "cell_type": "code",
   "execution_count": 62,
   "id": "5738632c",
   "metadata": {},
   "outputs": [
    {
     "name": "stdout",
     "output_type": "stream",
     "text": [
      "multiplication number\n",
      "5\n",
      "multiplication is 5\n",
      "multiplication is 10\n",
      "multiplication is 15\n",
      "multiplication is 20\n",
      "multiplication is 25\n",
      "multiplication is 30\n",
      "multiplication is 35\n",
      "multiplication is 40\n",
      "multiplication is 45\n",
      "multiplication is 50\n"
     ]
    }
   ],
   "source": [
    "# a program to print multiplication table of 5\n",
    "n=int(input('multiplication number\\n'))\n",
    "i=1\n",
    "while (i <= 10):\n",
    "    n=n*1\n",
    "    print('multiplication is',  n*i)\n",
    "    i=i+1"
   ]
  },
  {
   "cell_type": "code",
   "execution_count": 67,
   "id": "1c685529",
   "metadata": {},
   "outputs": [
    {
     "name": "stdout",
     "output_type": "stream",
     "text": [
      "5\n",
      "7\n",
      "9\n",
      "11\n"
     ]
    }
   ],
   "source": [
    "for x in range(5,13,2):\n",
    "    print(x)"
   ]
  },
  {
   "cell_type": "code",
   "execution_count": 68,
   "id": "9f7c77b2",
   "metadata": {},
   "outputs": [
    {
     "name": "stdout",
     "output_type": "stream",
     "text": [
      "begining of the interval\n",
      "10\n",
      "end ofinterval\n",
      "20\n",
      "11\n",
      "11\n",
      "11\n",
      "11\n",
      "11\n",
      "11\n",
      "11\n",
      "11\n",
      "11\n",
      "13\n",
      "13\n",
      "13\n",
      "13\n",
      "13\n",
      "13\n",
      "13\n",
      "13\n",
      "13\n",
      "13\n",
      "13\n",
      "15\n",
      "17\n",
      "17\n",
      "17\n",
      "17\n",
      "17\n",
      "17\n",
      "17\n",
      "17\n",
      "17\n",
      "17\n",
      "17\n",
      "17\n",
      "17\n",
      "17\n",
      "17\n",
      "19\n",
      "19\n",
      "19\n",
      "19\n",
      "19\n",
      "19\n",
      "19\n",
      "19\n",
      "19\n",
      "19\n",
      "19\n",
      "19\n",
      "19\n",
      "19\n",
      "19\n",
      "19\n",
      "19\n"
     ]
    }
   ],
   "source": [
    "#write a program to print all the prime numbers within a range\n",
    "x=int(input('begining of the interval\\n'))\n",
    "y=int(input('end ofinterval\\n'))\n",
    "for num in range(x, y):\n",
    "    if num > 1:\n",
    "        for i in range(2, num):\n",
    "            if num % i==0:\n",
    "                break\n",
    "            else:\n",
    "                    print(num)\n",
    "      "
   ]
  },
  {
   "cell_type": "code",
   "execution_count": 67,
   "id": "f0cfc713",
   "metadata": {},
   "outputs": [
    {
     "name": "stdout",
     "output_type": "stream",
     "text": [
      "1\n",
      "1\n",
      "2\n",
      "3\n"
     ]
    }
   ],
   "source": [
    "# Write a program that prints out all the elements of the list that are less than 5\n",
    "a=[1,1,2,3,5,8,13,21,34,55,89]\n",
    "for i in a:\n",
    "    if i<5:  \n",
    "        print(i)\n",
    "\n",
    "\n",
    "\n",
    "\n",
    "\n",
    "\n"
   ]
  },
  {
   "cell_type": "code",
   "execution_count": 31,
   "id": "eead31bf",
   "metadata": {},
   "outputs": [
    {
     "data": {
      "text/plain": [
       "1"
      ]
     },
     "execution_count": 31,
     "metadata": {},
     "output_type": "execute_result"
    }
   ],
   "source": [
    "#Make a program that prints three random numbers\n",
    "import random\n",
    "x = [1,2,3,4,5,6,7,8,9]\n",
    "random.choice(x)"
   ]
  },
  {
   "cell_type": "code",
   "execution_count": 69,
   "id": "47a8f518",
   "metadata": {},
   "outputs": [
    {
     "name": "stdout",
     "output_type": "stream",
     "text": [
      "enter number between 1-10\n",
      "11\n",
      "your input is invalid\n"
     ]
    }
   ],
   "source": [
    "#make a program that asks the number between 1 and 10. if the number is out of range, the program should display 'invalid number\n",
    "n=int(input('enter number between 1-10\\n'))\n",
    "if n>10:\n",
    "    print('your input is invalid')\n",
    "\n"
   ]
  },
  {
   "cell_type": "code",
   "execution_count": null,
   "id": "9296c527",
   "metadata": {},
   "outputs": [],
   "source": []
  },
  {
   "cell_type": "code",
   "execution_count": null,
   "id": "3d75a365",
   "metadata": {},
   "outputs": [],
   "source": [
    "#WRITE A PROGRAM USING WHILE LOOP THAT  ASKS A USER TO ENTER A NUMBER DIVISIBLE BY 2.give the user a\n",
    "#witty message if they enter something that is not divisible by 2 and make then enter a new number.Dont \n",
    "#let them stop until they enter an even number.Print a congratory message when they finally get it right.\n",
    "\n",
    "n=int(input('any number\\n'))\n",
    "i=5\n",
    "if n % 2==0: \n",
    "    print('good job')\n",
    "elif n % 2!=0:\n",
    "        print('oh no')\n",
    "        while n<20:\n",
    "            continue\n",
    "            i=1+1\n",
    "            break\n",
    "        print('good job')"
   ]
  },
  {
   "cell_type": "code",
   "execution_count": null,
   "id": "d886f606",
   "metadata": {},
   "outputs": [],
   "source": [
    "# #WRITE A PROGRAM USING WHILE LOOP THAT  ASKS A USER TO ENTER A NUMBER DIVISIBLE BY 2.give the user a\n",
    "#witty message if they enter something that is not divisible by 2 and make then enter a new number.Dont \n",
    "#let them stop until they enter an even number.Print a congratory message when they finally get it right.\n",
    "\n",
    "n=int(input('any number\\n'))                                                                                                                                       n=int(input('any number\\n'))\n",
    "while n % 2==0: \n",
    "    print('good job')\n",
    "if n % 2!=0:\n",
    "    break\n",
    "        print('oh no')\n",
    "        \n",
    "                                                                                              "
   ]
  },
  {
   "cell_type": "markdown",
   "id": "89767817",
   "metadata": {},
   "source": [
    "#### write a program using a while loop that asks the user for a number, and prints a count down from the\n",
    "number to zero. what should your program do if the user inputs a negative number? As a programmer,\n",
    "you should always consider \"edge conditions\" like these when you program!.(Another way to put it-always assume the users of your program will be tring to find a way to break it! If you dont include a condition that catches negative numbers, what will your program do?\n",
    "\n",
    "\n"
   ]
  },
  {
   "cell_type": "code",
   "execution_count": 24,
   "id": "f8096376",
   "metadata": {},
   "outputs": [
    {
     "ename": "KeyboardInterrupt",
     "evalue": "Interrupted by user",
     "output_type": "error",
     "traceback": [
      "\u001b[1;31m---------------------------------------------------------------------------\u001b[0m",
      "\u001b[1;31mKeyboardInterrupt\u001b[0m                         Traceback (most recent call last)",
      "\u001b[1;32m~\\AppData\\Local\\Temp/ipykernel_9084/1581562117.py\u001b[0m in \u001b[0;36m<module>\u001b[1;34m\u001b[0m\n\u001b[1;32m----> 1\u001b[1;33m \u001b[0mnum\u001b[0m\u001b[1;33m=\u001b[0m\u001b[0mint\u001b[0m\u001b[1;33m(\u001b[0m\u001b[0minput\u001b[0m\u001b[1;33m(\u001b[0m\u001b[1;34m'type a number\\n'\u001b[0m\u001b[1;33m)\u001b[0m\u001b[1;33m)\u001b[0m\u001b[1;33m\u001b[0m\u001b[1;33m\u001b[0m\u001b[0m\n\u001b[0m\u001b[0;32m      2\u001b[0m \u001b[1;32mwhile\u001b[0m\u001b[1;33m(\u001b[0m\u001b[0mnum\u001b[0m\u001b[1;33m>=\u001b[0m\u001b[1;36m0\u001b[0m\u001b[1;33m)\u001b[0m\u001b[1;33m:\u001b[0m\u001b[1;33m\u001b[0m\u001b[1;33m\u001b[0m\u001b[0m\n\u001b[0;32m      3\u001b[0m     \u001b[0mnum\u001b[0m\u001b[1;33m=\u001b[0m\u001b[0mnum\u001b[0m\u001b[1;33m-\u001b[0m\u001b[1;36m1\u001b[0m\u001b[1;33m\u001b[0m\u001b[1;33m\u001b[0m\u001b[0m\n\u001b[0;32m      4\u001b[0m     \u001b[0mprint\u001b[0m\u001b[1;33m(\u001b[0m\u001b[1;34m'num'\u001b[0m\u001b[1;33m)\u001b[0m\u001b[1;33m\u001b[0m\u001b[1;33m\u001b[0m\u001b[0m\n",
      "\u001b[1;32m~\\anaconda3\\lib\\site-packages\\ipykernel\\kernelbase.py\u001b[0m in \u001b[0;36mraw_input\u001b[1;34m(self, prompt)\u001b[0m\n\u001b[0;32m   1004\u001b[0m                 \u001b[1;34m\"raw_input was called, but this frontend does not support input requests.\"\u001b[0m\u001b[1;33m\u001b[0m\u001b[1;33m\u001b[0m\u001b[0m\n\u001b[0;32m   1005\u001b[0m             )\n\u001b[1;32m-> 1006\u001b[1;33m         return self._input_request(\n\u001b[0m\u001b[0;32m   1007\u001b[0m             \u001b[0mstr\u001b[0m\u001b[1;33m(\u001b[0m\u001b[0mprompt\u001b[0m\u001b[1;33m)\u001b[0m\u001b[1;33m,\u001b[0m\u001b[1;33m\u001b[0m\u001b[1;33m\u001b[0m\u001b[0m\n\u001b[0;32m   1008\u001b[0m             \u001b[0mself\u001b[0m\u001b[1;33m.\u001b[0m\u001b[0m_parent_ident\u001b[0m\u001b[1;33m[\u001b[0m\u001b[1;34m\"shell\"\u001b[0m\u001b[1;33m]\u001b[0m\u001b[1;33m,\u001b[0m\u001b[1;33m\u001b[0m\u001b[1;33m\u001b[0m\u001b[0m\n",
      "\u001b[1;32m~\\anaconda3\\lib\\site-packages\\ipykernel\\kernelbase.py\u001b[0m in \u001b[0;36m_input_request\u001b[1;34m(self, prompt, ident, parent, password)\u001b[0m\n\u001b[0;32m   1049\u001b[0m             \u001b[1;32mexcept\u001b[0m \u001b[0mKeyboardInterrupt\u001b[0m\u001b[1;33m:\u001b[0m\u001b[1;33m\u001b[0m\u001b[1;33m\u001b[0m\u001b[0m\n\u001b[0;32m   1050\u001b[0m                 \u001b[1;31m# re-raise KeyboardInterrupt, to truncate traceback\u001b[0m\u001b[1;33m\u001b[0m\u001b[1;33m\u001b[0m\u001b[0m\n\u001b[1;32m-> 1051\u001b[1;33m                 \u001b[1;32mraise\u001b[0m \u001b[0mKeyboardInterrupt\u001b[0m\u001b[1;33m(\u001b[0m\u001b[1;34m\"Interrupted by user\"\u001b[0m\u001b[1;33m)\u001b[0m \u001b[1;32mfrom\u001b[0m \u001b[1;32mNone\u001b[0m\u001b[1;33m\u001b[0m\u001b[1;33m\u001b[0m\u001b[0m\n\u001b[0m\u001b[0;32m   1052\u001b[0m             \u001b[1;32mexcept\u001b[0m \u001b[0mException\u001b[0m\u001b[1;33m:\u001b[0m\u001b[1;33m\u001b[0m\u001b[1;33m\u001b[0m\u001b[0m\n\u001b[0;32m   1053\u001b[0m                 \u001b[0mself\u001b[0m\u001b[1;33m.\u001b[0m\u001b[0mlog\u001b[0m\u001b[1;33m.\u001b[0m\u001b[0mwarning\u001b[0m\u001b[1;33m(\u001b[0m\u001b[1;34m\"Invalid Message:\"\u001b[0m\u001b[1;33m,\u001b[0m \u001b[0mexc_info\u001b[0m\u001b[1;33m=\u001b[0m\u001b[1;32mTrue\u001b[0m\u001b[1;33m)\u001b[0m\u001b[1;33m\u001b[0m\u001b[1;33m\u001b[0m\u001b[0m\n",
      "\u001b[1;31mKeyboardInterrupt\u001b[0m: Interrupted by user"
     ]
    }
   ],
   "source": [
    "num=int(input('type a number\\n'))\n",
    "while(num>=0):\n",
    "    num=num-1\n",
    "    print('num')"
   ]
  },
  {
   "cell_type": "code",
   "execution_count": null,
   "id": "9dbcd34e",
   "metadata": {},
   "outputs": [],
   "source": [
    "#write a python program to find those numbers which are divisible by 7 and multiples of 5, bewtween 1500 and 2700 ( both inclusive)\n",
    "lower=int(input('enter number\\n'))\n",
    "upper=int(input('enter number\\n'))                \n",
    "for i in range(lower,upper):\n",
    "    if (i%7==0) and (i%5==0):\n",
    "        Print(i)\n",
    "        \n",
    "        \n"
   ]
  },
  {
   "cell_type": "code",
   "execution_count": null,
   "id": "913030c4",
   "metadata": {},
   "outputs": [],
   "source": []
  }
 ],
 "metadata": {
  "kernelspec": {
   "display_name": "Python 3 (ipykernel)",
   "language": "python",
   "name": "python3"
  },
  "language_info": {
   "codemirror_mode": {
    "name": "ipython",
    "version": 3
   },
   "file_extension": ".py",
   "mimetype": "text/x-python",
   "name": "python",
   "nbconvert_exporter": "python",
   "pygments_lexer": "ipython3",
   "version": "3.9.7"
  }
 },
 "nbformat": 4,
 "nbformat_minor": 5
}
